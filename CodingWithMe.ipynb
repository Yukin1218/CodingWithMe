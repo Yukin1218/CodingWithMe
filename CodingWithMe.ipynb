{
 "cells": [
  {
   "cell_type": "markdown",
   "metadata": {},
   "source": [
    "# Coding With Me: Tensorflow\n",
    "## Step 1: Hello World\n",
    "<img src=\"./hello.PNG\" alt=\"Hello TensorFlow!\" width=\"200\">\n",
    "Let's validate the environment by the above \"hello\" graph:"
   ]
  },
  {
   "cell_type": "code",
   "execution_count": 1,
   "metadata": {
    "collapsed": false
   },
   "outputs": [],
   "source": [
    "%matplotlib inline\n",
    "import numpy as np\n",
    "import matplotlib.pyplot as plt\n",
    "import input_data"
   ]
  },
  {
   "cell_type": "code",
   "execution_count": 2,
   "metadata": {
    "collapsed": false
   },
   "outputs": [
    {
     "name": "stdout",
     "output_type": "stream",
     "text": [
      "Hello, TensorFlow!\n",
      "!\n"
     ]
    }
   ],
   "source": [
    "import tensorflow as tf\n",
    "words = tf.constant('Hello, TensorFlow')\n",
    "feel = tf.constant('!')\n",
    "hello = tf.add(words, feel)\n",
    "sess = tf.Session()\n",
    "writer = tf.train.SummaryWriter(\"/root/compute/log/hello\")\n",
    "writer.add_graph(sess.graph)\n",
    "print(sess.run(hello))\n",
    "print(sess.run(feel))"
   ]
  },
  {
   "cell_type": "markdown",
   "metadata": {
    "collapsed": true
   },
   "source": [
    "## Step 2: Getting familar, a simple linear model"
   ]
  },
  {
   "cell_type": "markdown",
   "metadata": {},
   "source": [
    "In TensorFlow, data models (e.g. CNNs)/loss functions (e.g. square loss)/optimizations (e.g. SGD) are converted to graphs, by which the computation is performed. The general steps are as following:\n",
    "* Construct the model and draw the graph;\n",
    "* Implement the graph in TensorFlow;\n",
    "* Init variables and run/evaluate the graph in the TensorFlow session;\n",
    "* (Optional) Display the graph in TensorBoard."
   ]
  },
  {
   "cell_type": "markdown",
   "metadata": {},
   "source": [
    "Let's mock some data from a linear model:\n",
    "$y = 2.1x + 0.1$"
   ]
  },
  {
   "cell_type": "code",
   "execution_count": 3,
   "metadata": {
    "collapsed": false
   },
   "outputs": [],
   "source": [
    "x = np.random.rand(100, 1).astype(\"float32\")\n",
    "y = 2.1 *  x + 0.1"
   ]
  },
  {
   "cell_type": "markdown",
   "metadata": {},
   "source": [
    "Let's add some Guassian noise and plot:"
   ]
  },
  {
   "cell_type": "code",
   "execution_count": 4,
   "metadata": {
    "collapsed": false
   },
   "outputs": [
    {
     "data": {
      "text/plain": [
       "<matplotlib.text.Text at 0x7f384c0ee510>"
      ]
     },
     "execution_count": 4,
     "metadata": {},
     "output_type": "execute_result"
    },
    {
     "data": {
      "image/png": "[encoded data removed]",
      "text/plain": [
       "<matplotlib.figure.Figure at 0x7f387012cc90>"
      ]
     },
     "metadata": {},
     "output_type": "display_data"
    }
   ],
   "source": [
    "noise = np.random.normal(0, 0.02, (100, 1))\n",
    "y = y + noise\n",
    "plt.plot(x, y, 'ro')\n",
    "plt.title(\"mock linear\")"
   ]
  },
  {
   "cell_type": "markdown",
   "metadata": {},
   "source": [
    "Construct the model:"
   ]
  },
  {
   "cell_type": "code",
   "execution_count": 5,
   "metadata": {
    "collapsed": false
   },
   "outputs": [],
   "source": [
    "x_ = tf.placeholder(tf.float32, [None, 1])\n",
    "y_ = tf.placeholder(tf.float32, [None, 1])\n",
    "w = tf.Variable(tf.zeros([1,1]))\n",
    "b = tf.Variable(tf.zeros([1,1]))\n",
    "predict = x_ * w + b"
   ]
  },
  {
   "cell_type": "markdown",
   "metadata": {},
   "source": [
    "Define loss function (mean square) and optimize:"
   ]
  },
  {
   "cell_type": "code",
   "execution_count": 6,
   "metadata": {
    "collapsed": false
   },
   "outputs": [],
   "source": [
    "loss = tf.reduce_mean(tf.square(y_ - predict))\n",
    "optimizer = tf.train.GradientDescentOptimizer(0.5)\n",
    "train = optimizer.minimize(loss)"
   ]
  },
  {
   "cell_type": "markdown",
   "metadata": {},
   "source": [
    "Run the graph, training for $w$ and $b$:\n",
    "<img src=\"./linear.PNG\" alt=\"A Simple Linear Model\" width=\"200\">"
   ]
  },
  {
   "cell_type": "code",
   "execution_count": 7,
   "metadata": {
    "collapsed": false
   },
   "outputs": [
    {
     "name": "stdout",
     "output_type": "stream",
     "text": [
      "0 [[ 0.84461546]] [[ 1.2190522]]\n",
      "50 [[ 2.05569839]] [[ 0.12061879]]\n",
      "100 [[ 2.09195042]] [[ 0.09975556]]\n",
      "150 [[ 2.09289956]] [[ 0.09920931]]\n",
      "200 [[ 2.09292412]] [[ 0.09919516]]\n",
      "250 [[ 2.09292412]] [[ 0.09919516]]\n",
      "300 [[ 2.09292412]] [[ 0.09919516]]\n",
      "350 [[ 2.09292412]] [[ 0.09919516]]\n",
      "400 [[ 2.09292412]] [[ 0.09919516]]\n",
      "450 [[ 2.09292412]] [[ 0.09919516]]\n",
      "500 [[ 2.09292412]] [[ 0.09919516]]\n"
     ]
    }
   ],
   "source": [
    "sess = tf.Session()\n",
    "init = tf.initialize_all_variables()\n",
    "sess.run(init)\n",
    "writer = tf.train.SummaryWriter(\"/root/compute/log/linear\")\n",
    "writer.add_graph(sess.graph)\n",
    "\n",
    "for i in range(501):\n",
    "    sess.run(train, feed_dict={x_: x, y_: y})\n",
    "    if i % 50 == 0:\n",
    "        print i, sess.run(w), sess.run(b)"
   ]
  },
  {
   "cell_type": "markdown",
   "metadata": {},
   "source": [
    "## Step 3: Working on MNIST"
   ]
  },
  {
   "cell_type": "markdown",
   "metadata": {},
   "source": [
    "### Direct Softmax"
   ]
  },
  {
   "cell_type": "code",
   "execution_count": null,
   "metadata": {
    "collapsed": true
   },
   "outputs": [],
   "source": []
  },
  {
   "cell_type": "markdown",
   "metadata": {},
   "source": [
    "### CNN"
   ]
  },
  {
   "cell_type": "code",
   "execution_count": null,
   "metadata": {
    "collapsed": true
   },
   "outputs": [],
   "source": []
  }
 ],
 "metadata": {
  "kernelspec": {
   "display_name": "Python 2",
   "language": "python",
   "name": "python2"
  },
  "language_info": {
   "codemirror_mode": {
    "name": "ipython",
    "version": 2
   },
   "file_extension": ".py",
   "mimetype": "text/x-python",
   "name": "python",
   "nbconvert_exporter": "python",
   "pygments_lexer": "ipython2",
   "version": "2.7.6"
  }
 },
 "nbformat": 4,
 "nbformat_minor": 0
}
