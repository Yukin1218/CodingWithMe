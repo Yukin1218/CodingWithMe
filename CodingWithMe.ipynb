{
 "cells": [
  {
   "cell_type": "markdown",
   "metadata": {},
   "source": [
    "# Coding With Me: Tensorflow\n",
    "## Step 0: Explain the notations\n",
    "* __graph__: A set of vertices and edges. Vertices are linked by the edges.\n",
    "* __tensor__: Multidimensional array. It can represent data, e.g. a matrix of count numbers, a set of images, string.\n",
    "\n",
    "## Step 1: Computing with graphs in Tensorflow's _session_\n",
    "In this step, we will introduce some basic operations and Tensorflow's _session_.\n",
    "\n",
    "<img src=\"./hello.PNG\" alt=\"Hello TensorFlow!\" width=\"50%\">\n",
    "Computations among tensors can be regarded as graphs with the vertices as operations and the edges representing tensors.\n",
    "\n",
    "Firstly, we will introduce some basic tensorflow operations:\n",
    "* __constant (value, dtype=None, shape=None, name='Const')__: Creates a constant tensor. _name_ is a name for the operator, which is optional.\n",
    "* __add (x, y, name=None)__: Returns x + y element-wise.\n",
    "\n",
    "Then, we will introduce Tensorflow's _session_:\n",
    "* __class Session__: A class for running TensorFlow operations. A Session object encapsulates the environment in which Operation objects are executed, and Tensor objects are evaluated.\n",
    "* __Session.run (fetches, feed_dict=None, options=None, run_metadata=None)__: Runs the operations and evaluates the tensors in fetches. This method runs one \"step\" of TensorFlow computation, by running the necessary graph fragment to execute every Operation and evaluate every Tensor in fetches, substituting the values in feed_dict for the corresponding input values. The fetches argument may be a single graph element, a list of graph elements, or a dictionary whose values are the above. The type of fetches determines the return value of this method. A graph element can be one of the following types: If an element of fetches is an Operation, the corresponding fetched value will be None. If an element of fetches is a Tensor, the corresponding fetched value will be a numpy ndarray containing the value of that tensor. If an element of fetches is a SparseTensor, the corresponding fetched value will be a SparseTensorValue containing the value of that sparse tensor. If an element of fetches is produced by a get_tensor_handle op, the corresponding fetched value will be a numpy ndarray containing the handle of that tensor.\n",
    "\n",
    "\n",
    "We can find more detailed descriptions at Tensorflow's API document: https://www.tensorflow.org/versions/r0.9/api_docs/index.html"
   ]
  },
  {
   "cell_type": "code",
   "execution_count": 1,
   "metadata": {
    "collapsed": false
   },
   "outputs": [],
   "source": [
    "%matplotlib inline\n",
    "import numpy as np\n",
    "import matplotlib.pyplot as plt\n",
    "import input_data"
   ]
  },
  {
   "cell_type": "code",
   "execution_count": 2,
   "metadata": {
    "collapsed": false
   },
   "outputs": [
    {
     "name": "stdout",
     "output_type": "stream",
     "text": [
      "Hello, TensorFlow!\n"
     ]
    }
   ],
   "source": [
    "import tensorflow as tf\n",
    "words = tf.constant('Hello, TensorFlow')\n",
    "feel = tf.constant('!')\n",
    "hello = tf.add(words, feel)\n",
    "sess = tf.Session()\n",
    "writer = tf.train.SummaryWriter(\"/root/compute/log\", sess.graph) # this step is optional, writing logs of the graph to /root/compute/log\n",
    "print(sess.run(hello))"
   ]
  },
  {
   "cell_type": "markdown",
   "metadata": {
    "collapsed": true
   },
   "source": [
    "## Step 2: Variables and optimization, a simple linear regression"
   ]
  },
  {
   "cell_type": "markdown",
   "metadata": {},
   "source": [
    "In this step we will get familiar with more operations and concepts:\n",
    "* __placeholder (dtype, shape=None, name=None)__: Inserts a placeholder for a tensor that will be always fed. _Important: This tensor will produce an error if evaluated. Its value must be fed using the feed_dict optional argument to Session.run(), Tensor.eval(), or Operation.run()._\n",
    "* __class Variable__: A variable maintains state in the graph across calls to run(). You add a variable to the graph by constructing an instance of the class Variable.\n",
    "* **Variable.\\__init__ (initial_value=None, trainable=True, collections=None, validate_shape=True, caching_device=None, name=None, variable_def=None, dtype=None)**: Creates a new variable with value initial_value.\n",
    "\n",
    "Optimization, e.g. Gradient Descent. Gradient descent is a first-order optimization algorithm. To find a local minimum of a function using gradient descent, one takes steps proportional to the negative of the gradient (or of the approximate gradient) of the function at the current point. If instead one takes steps proportional to the positive of the gradient, one approaches a local maximum of that function; the procedure is then known as gradient ascent.\n",
    "\n",
    "* __class train.GradientDescentOptimizer__: Optimizer that implements the gradient descent algorithm.\n",
    "* **train.GradientDescentOptimizer.\\__init__ (learning_rate, use_locking=False, name='GradientDescent')**: Construct a new gradient descent optimizer. The most import parameter is the learning rate, or the step size.\n",
    "* __train.Optimizer.minimize (loss, global_step=None, var_list=None, gate_gradients=1, aggregation_method=None, colocate_gradients_with_ops=False, name=None, grad_loss=None)__: Add operations to minimize loss by updating var_list. This method simply combines calls compute_gradients(), which computes gradients of loss for the variables in var_list, and apply_gradients(), which applys gradients to variables. This function returns an Operation that updates the variables in var_list."
   ]
  },
  {
   "cell_type": "markdown",
   "metadata": {},
   "source": [
    "As described in the previous step, data models (e.g. CNNs)/loss functions (e.g. square loss)/optimizations (e.g. SGD) are converted to graphs, by which the computation is performed. The general steps are as following:\n",
    "* Construct the model and draw the graph;\n",
    "* Implement the graph in TensorFlow;\n",
    "* Init variables and run/evaluate the graph in the TensorFlow session;\n",
    "* (Optional) Display the graph in TensorBoard."
   ]
  },
  {
   "cell_type": "markdown",
   "metadata": {},
   "source": [
    "Let's mock some data from a linear model:\n",
    "$y = 2.1x + 0.1$"
   ]
  },
  {
   "cell_type": "code",
   "execution_count": 3,
   "metadata": {
    "collapsed": false
   },
   "outputs": [],
   "source": [
    "x = np.random.rand(100, 1).astype(\"float32\")\n",
    "y = 2.1 *  x + 0.1"
   ]
  },
  {
   "cell_type": "markdown",
   "metadata": {},
   "source": [
    "Let's add some Guassian noise and plot:"
   ]
  },
  {
   "cell_type": "code",
   "execution_count": 4,
   "metadata": {
    "collapsed": false
   },
   "outputs": [
    {
     "data": {
      "text/plain": [
       "<matplotlib.text.Text at 0x7effc0319e50>"
      ]
     },
     "execution_count": 4,
     "metadata": {},
     "output_type": "execute_result"
    },
    {
     "data": {
      "image/png": "[encoded data removed]",
      "text/plain": [
       "<matplotlib.figure.Figure at 0x7effe46fa2d0>"
      ]
     },
     "metadata": {},
     "output_type": "display_data"
    }
   ],
   "source": [
    "noise = np.random.normal(0, 0.02, (100, 1))\n",
    "y = y + noise\n",
    "plt.plot(x, y, 'ro')\n",
    "plt.title(\"mock linear\")"
   ]
  },
  {
   "cell_type": "markdown",
   "metadata": {},
   "source": [
    "Construct the model:"
   ]
  },
  {
   "cell_type": "code",
   "execution_count": 5,
   "metadata": {
    "collapsed": false
   },
   "outputs": [],
   "source": [
    "x_ = tf.placeholder(tf.float32, [None, 1])\n",
    "y_ = tf.placeholder(tf.float32, [None, 1])\n",
    "w = tf.Variable(tf.zeros([1,1]))\n",
    "b = tf.Variable(tf.zeros([1,1]))\n",
    "predict = x_ * w + b"
   ]
  },
  {
   "cell_type": "markdown",
   "metadata": {},
   "source": [
    "Define loss function (mean square) and optimize:"
   ]
  },
  {
   "cell_type": "code",
   "execution_count": 6,
   "metadata": {
    "collapsed": false
   },
   "outputs": [],
   "source": [
    "loss = tf.reduce_mean(tf.square(y_ - predict))\n",
    "optimizer = tf.train.GradientDescentOptimizer(0.5)\n",
    "train = optimizer.minimize(loss)"
   ]
  },
  {
   "cell_type": "markdown",
   "metadata": {},
   "source": [
    "Run the graph, training for $w$ and $b$:\n",
    "<img src=\"./linear.PNG\" alt=\"A Simple Linear Model\" width=\"35%\">"
   ]
  },
  {
   "cell_type": "code",
   "execution_count": 8,
   "metadata": {
    "collapsed": false
   },
   "outputs": [
    {
     "name": "stdout",
     "output_type": "stream",
     "text": [
      "0 [[ 0.88675141]] [[ 1.28209507]]\n",
      "50 [[ 2.02658725]] [[ 0.14515524]]\n",
      "100 [[ 2.08938527]] [[ 0.10762365]]\n",
      "150 [[ 2.09232688]] [[ 0.10586557]]\n",
      "200 [[ 2.09246445]] [[ 0.10578342]]\n",
      "250 [[ 2.09246993]] [[ 0.10578007]]\n",
      "300 [[ 2.09246993]] [[ 0.10578007]]\n",
      "350 [[ 2.09246993]] [[ 0.10578007]]\n",
      "400 [[ 2.09246993]] [[ 0.10578007]]\n",
      "450 [[ 2.09246993]] [[ 0.10578007]]\n",
      "500 [[ 2.09246993]] [[ 0.10578007]]\n"
     ]
    }
   ],
   "source": [
    "sess = tf.Session()\n",
    "sess.run(tf.initialize_all_variables())\n",
    "writer = tf.train.SummaryWriter(\"/root/compute/log\", sess.graph)\n",
    "\n",
    "for i in range(501):\n",
    "    sess.run(train, feed_dict={x_: x, y_: y})\n",
    "    if i % 50 == 0:\n",
    "        print i, sess.run(w), sess.run(b)"
   ]
  },
  {
   "cell_type": "markdown",
   "metadata": {},
   "source": [
    "## Step 3: Play on MNIST"
   ]
  },
  {
   "cell_type": "markdown",
   "metadata": {},
   "source": [
    "In this step, we will introduce a basic machine learning flow and some useful operations. Let's play on MNIST."
   ]
  },
  {
   "cell_type": "markdown",
   "metadata": {},
   "source": [
    "MNIST data reader API:\n",
    "* datasets = read_data_sets(path, fake_data, one_hot)\n",
    "* dataset.next_batch(number_samples, fake_data)\n",
    "* dataset.images\n",
    "Let's see an example from MNIST"
   ]
  },
  {
   "cell_type": "code",
   "execution_count": 3,
   "metadata": {
    "collapsed": false
   },
   "outputs": [
    {
     "name": "stdout",
     "output_type": "stream",
     "text": [
      "Extracting ../repo/MNIST/train-images-idx3-ubyte.gz\n",
      "Extracting ../repo/MNIST/train-labels-idx1-ubyte.gz\n",
      "Extracting ../repo/MNIST/t10k-images-idx3-ubyte.gz\n",
      "Extracting ../repo/MNIST/t10k-labels-idx1-ubyte.gz\n"
     ]
    },
    {
     "data": {
      "text/plain": [
       "<matplotlib.image.AxesImage at 0x7feb24249610>"
      ]
     },
     "execution_count": 3,
     "metadata": {},
     "output_type": "execute_result"
    },
    {
     "data": {
      "image/png": "[encoded data removed]",
      "text/plain": [
       "<matplotlib.figure.Figure at 0x7feb29e70a10>"
      ]
     },
     "metadata": {},
     "output_type": "display_data"
    }
   ],
   "source": [
    "mnist = input_data.read_data_sets(\"../repo/MNIST\", one_hot = True)\n",
    "imgs = mnist.train.images\n",
    "img = imgs[0].reshape(28, 28)\n",
    "plt.imshow(img)"
   ]
  },
  {
   "cell_type": "markdown",
   "metadata": {},
   "source": [
    "### 3.1 Softmax"
   ]
  },
  {
   "cell_type": "markdown",
   "metadata": {},
   "source": [
    "In this section, we will introduce:\n",
    "* softmax activcation: $sofmax(x)_i = \\frac{\\exp({x_i})}{\\sum_j \\exp({x_j})}$\n",
    "* cross entropy: \n",
    "$H(p, q) = -\\sum_x p(x)\\, \\log q(x)$\n",
    "\n",
    "The hypothesis of $K$-class softmax regression, assume the parameter is $\\theta$:\n",
    "<img src=\"./softmax.PNG\" alt=\"The hypothesis of softmax regression\" width=\"80%\">\n",
    "The cost function can be cross entropy.\n",
    "\n",
    "In short, Softmax regression (or multinomial logistic regression) is a generalization of logistic regression to the case where we want to handle multiple classes. For detailed information about softmax regression (including the relationship to logistic regression), please refer to: http://ufldl.stanford.edu/tutorial/supervised/SoftmaxRegression/\n",
    "\n",
    "In Tensorflow:\n",
    "* __nn.softmax (logits, name=None)__: Computes softmax activations. For each batch i and class j we have _softmax[i, j] = exp(logits[i, j]) / sum(exp(logits[i]))_\n",
    "\n",
    "We can use the activation function with input multiplied by the parameter $\\theta$.\n"
   ]
  },
  {
   "cell_type": "code",
   "execution_count": 35,
   "metadata": {
    "collapsed": false
   },
   "outputs": [
    {
     "name": "stdout",
     "output_type": "stream",
     "text": [
      "0.9127\n"
     ]
    }
   ],
   "source": [
    "sess = tf.Session()\n",
    "\n",
    "x = tf.placeholder(\"float\", shape=[None, 784])\n",
    "y_ = tf.placeholder(\"float\", shape=[None, 10])\n",
    "theta = tf.Variable(tf.zeros([784, 10]))\n",
    "\n",
    "# softmax model\n",
    "y = tf.nn.softmax(tf.matmul(x, theta))\n",
    "\n",
    "# train\n",
    "loss = -tf.reduce_sum(y_*tf.log(y))\n",
    "train = tf.train.GradientDescentOptimizer(0.01).minimize(loss)\n",
    "\n",
    "sess.run(tf.initialize_all_variables())\n",
    "for i in range(1000):\n",
    "\tbatch = mnist.train.next_batch(50)\n",
    "\tsess.run(train, feed_dict={x: batch[0], y_: batch[1]})\n",
    "\n",
    "# prediction by direct argmax\n",
    "accuracy = tf.reduce_mean(tf.cast(tf.equal(tf.argmax(y,1), tf.argmax(y_,1)), \"float\"))\n",
    "\n",
    "writer = tf.train.SummaryWriter(\"/root/compute/log\", sess.graph)\n",
    "\n",
    "print sess.run(accuracy, feed_dict={x: mnist.test.images, y_: mnist.test.labels})"
   ]
  },
  {
   "cell_type": "code",
   "execution_count": 71,
   "metadata": {
    "collapsed": false
   },
   "outputs": [
    {
     "name": "stdout",
     "output_type": "stream",
     "text": [
      "0.9276\n"
     ]
    }
   ],
   "source": [
    "sess = tf.Session()\n",
    "\n",
    "def weight_variables(shape):\n",
    "    #initial = tf.constant(0.0, shape = shape)\n",
    "    initial = tf.truncated_normal(shape, stddev=0.01)\n",
    "    return tf.Variable(initial)\n",
    "\n",
    "def bias_variables(shape):\n",
    "\tinitial = tf.constant(0.0, shape = shape)\n",
    "\treturn tf.Variable(initial)\n",
    "\n",
    "x = tf.placeholder(\"float\", shape=[None, 784])\n",
    "y_ = tf.placeholder(\"float\", shape=[None, 10])\n",
    "\n",
    "#activation = tf.nn.relu\n",
    "activation = tf.sigmoid\n",
    "\n",
    "learning_rate = 0.01\n",
    "\n",
    "# hidden\n",
    "num1 = 128\n",
    "theta1 = weight_variables([784, num1])\n",
    "bias1 = bias_varibales([num1])\n",
    "x1 = activation(tf.matmul(x, theta1) + bias1)\n",
    "\n",
    "# hidden\n",
    "num2 = 32\n",
    "theta2 = weight_variables([784, num2])\n",
    "bias2 = bias_varibales([num2])\n",
    "x2 = activation(tf.matmul(x, theta2) + bias2)\n",
    "\n",
    "# softmax model\n",
    "theta0 = weight_variables([num2, 10])\n",
    "bias0 = bias_varibales([10])\n",
    "y = tf.nn.softmax(tf.matmul(x2, theta0) + bias0)\n",
    "\n",
    "# train\n",
    "loss = -tf.reduce_sum(y_*tf.log(y))\n",
    "train = tf.train.GradientDescentOptimizer(learning_rate).minimize(loss)\n",
    "\n",
    "sess.run(tf.initialize_all_variables())\n",
    "for i in range(1000):\n",
    "\tbatch = mnist.train.next_batch(50)\n",
    "\tsess.run(train, feed_dict={x: batch[0], y_: batch[1]})\n",
    "\n",
    "# prediction by direct argmax\n",
    "accuracy = tf.reduce_mean(tf.cast(tf.equal(tf.argmax(y,1), tf.argmax(y_,1)), \"float\"))\n",
    "\n",
    "writer = tf.train.SummaryWriter(\"/root/compute/log\", sess.graph)\n",
    "\n",
    "print sess.run(accuracy, feed_dict={x: mnist.test.images, y_: mnist.test.labels})"
   ]
  },
  {
   "cell_type": "markdown",
   "metadata": {},
   "source": [
    "### 3.2 CNN"
   ]
  },
  {
   "cell_type": "markdown",
   "metadata": {},
   "source": [
    "In addition to the softmax classifier, the feature is automatically learned through multiple CNN layers. We will introduce:\n",
    "* basic idea of CNN. Detailed CNN description can be found at: http://cs231n.github.io/convolutional-networks/\n",
    "* nn.conv2d\n",
    "* nn.max_pool"
   ]
  },
  {
   "cell_type": "code",
   "execution_count": 8,
   "metadata": {
    "collapsed": true
   },
   "outputs": [],
   "source": [
    "def weight_variable(shape):\n",
    "    #initial = tf.constant(0.0, shape = shape)\n",
    "    initial = tf.truncated_normal(shape, stddev=0.1)\n",
    "    return tf.Variable(initial)\n",
    "\n",
    "def bias_variable(shape):\n",
    "\tinitial = tf.constant(0.1, shape = shape)\n",
    "\treturn tf.Variable(initial)\n",
    "\n",
    "def conv2d(x, W):\n",
    "\treturn tf.nn.conv2d(x, W, strides=[1, 1, 1, 1], padding='SAME')\n",
    "\n",
    "def max_pool_2x2(x):\n",
    "\treturn tf.nn.max_pool(x, ksize=[1, 2, 2, 1], strides=[1, 2, 2, 1], padding='SAME')"
   ]
  },
  {
   "cell_type": "markdown",
   "metadata": {},
   "source": [
    "Input:"
   ]
  },
  {
   "cell_type": "code",
   "execution_count": 9,
   "metadata": {
    "collapsed": false
   },
   "outputs": [],
   "source": [
    "x = tf.placeholder(\"float\", shape=[None, 784])\n",
    "# convert to a stack of images\n",
    "x_image = tf.reshape(x, [-1, 28, 28, 1])"
   ]
  },
  {
   "cell_type": "markdown",
   "metadata": {},
   "source": [
    "Construct CNN, train:"
   ]
  },
  {
   "cell_type": "code",
   "execution_count": 10,
   "metadata": {
    "collapsed": false
   },
   "outputs": [
    {
     "name": "stdout",
     "output_type": "stream",
     "text": [
      "step 0, training accuracy 0.06\n",
      "step 500, training accuracy 0.02\n",
      "step 1000, training accuracy 0.76\n",
      "step 1500, training accuracy 0.86\n"
     ]
    }
   ],
   "source": [
    "# conv1\n",
    "W_conv1 = weight_variable([5, 5, 1, 32])\n",
    "b_conv1 = bias_variable([32])\n",
    "#h_conv1 = tf.nn.relu(conv2d(x_image, W_conv1) + b_conv1)\n",
    "h_conv1 = tf.sigmoid(conv2d(x_image, W_conv1) + b_conv1)\n",
    "\n",
    "# conv_e1\n",
    "W_conv_e1 = weight_variable([5, 5, 32, 32])\n",
    "b_conv_e1 = bias_variable([32])\n",
    "#h_conv_e1 = tf.nn.relu(conv2d(h_conv1, W_conv_e1) + b_conv_e1)\n",
    "h_conv_e1 = tf.sigmoid(conv2d(h_conv1, W_conv_e1) + b_conv_e1)\n",
    "\n",
    "# max-pool_e1\n",
    "h_pool_e1 = max_pool_2x2(h_conv_e1)\n",
    "\n",
    "# conv2\n",
    "W_conv2 = weight_variable([5, 5, 32, 64])\n",
    "b_conv2 = bias_variable([64])\n",
    "#h_conv2 = tf.nn.relu(conv2d(h_pool_e1, W_conv2) + b_conv2)\n",
    "h_conv2 = tf.sigmoid(conv2d(h_pool_e1, W_conv2) + b_conv2)\n",
    "\n",
    "# max-pool1\n",
    "h_pool2 = max_pool_2x2(h_conv2)\n",
    "\n",
    "# dense\n",
    "final_size = 7*7*64\n",
    "#final_size = 14*14*32\n",
    "h_pool2_flat = tf.reshape(h_pool2, [-1, final_size])\n",
    "#h_pool2_flat = tf.reshape(h_pool1, [-1, final_size])\n",
    "\n",
    "W_fc1 = weight_variable([final_size, 1024])\n",
    "b_fc1 = bias_variable([1024])\n",
    "#h_fc1 = tf.nn.relu(tf.matmul(h_pool2_flat, W_fc1) + b_fc1)\n",
    "h_fc1 = tf.sigmoid(tf.matmul(h_pool2_flat, W_fc1) + b_fc1)\n",
    "\n",
    "# dropout\n",
    "keep_prob = tf.placeholder(\"float\")\n",
    "h_fc1_drop = tf.nn.dropout(h_fc1, keep_prob)\n",
    "\n",
    "# readout\n",
    "W_fc2 = weight_variable([1024, 10])\n",
    "b_fc2 = bias_variable([10])\n",
    "y_conv = tf.nn.softmax(tf.matmul(h_fc1_drop, W_fc2) + b_fc2)\n",
    "\n",
    "# train\n",
    "y_ = tf.placeholder(\"float\", shape=[None, 10])\n",
    "cross_entropy = -tf.reduce_sum(y_*tf.log(y_conv))\n",
    "train_step = tf.train.AdamOptimizer(5e-5).minimize(cross_entropy)\n",
    "correct_prediction = tf.equal(tf.argmax(y_conv,1), tf.argmax(y_,1))\n",
    "accuracy = tf.reduce_mean(tf.cast(correct_prediction, \"float\"))\n",
    "\n",
    "sess = tf.Session()\n",
    "sess.run(tf.initialize_all_variables())\n",
    "for i in range(1501):\n",
    "\tbatch = mnist.train.next_batch(50)\n",
    "  \tif i%500 == 0:\n",
    "\t\ttrain_accuracy = sess.run(accuracy, feed_dict={x:batch[0], y_: batch[1], keep_prob: 1.0})\n",
    "\t\tprint(\"step %d, training accuracy %g\"%(i, train_accuracy))\n",
    "\tsess.run(train_step, feed_dict={x: batch[0], y_: batch[1], keep_prob: 0.5})"
   ]
  },
  {
   "cell_type": "markdown",
   "metadata": {},
   "source": [
    "Predict on the test data:"
   ]
  },
  {
   "cell_type": "code",
   "execution_count": 11,
   "metadata": {
    "collapsed": false
   },
   "outputs": [
    {
     "name": "stdout",
     "output_type": "stream",
     "text": [
      "test accuracy 0.886\n"
     ]
    }
   ],
   "source": [
    "batch = mnist.test.next_batch(500)\n",
    "#plt.imshow(sess.run(h_pool2, feed_dict={x: batch[0], y_: batch[1], keep_prob: 1.0})[0, 0:6, 0:6, 0])\n",
    "print(\"test accuracy %g\"%sess.run(accuracy, feed_dict={x: batch[0], y_: batch[1], keep_prob: 1.0}))"
   ]
  },
  {
   "cell_type": "code",
   "execution_count": null,
   "metadata": {
    "collapsed": true
   },
   "outputs": [],
   "source": []
  }
 ],
 "metadata": {
  "kernelspec": {
   "display_name": "Python 2",
   "language": "python",
   "name": "python2"
  },
  "language_info": {
   "codemirror_mode": {
    "name": "ipython",
    "version": 2
   },
   "file_extension": ".py",
   "mimetype": "text/x-python",
   "name": "python",
   "nbconvert_exporter": "python",
   "pygments_lexer": "ipython2",
   "version": "2.7.6"
  }
 },
 "nbformat": 4,
 "nbformat_minor": 0
}
